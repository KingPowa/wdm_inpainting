{
 "cells": [
  {
   "cell_type": "code",
   "execution_count": 1,
   "metadata": {},
   "outputs": [],
   "source": [
    "# Test the custom Nifti Dataset\n",
    "import os\n",
    "import torch\n",
    "from omegaconf import OmegaConf\n",
    "\n",
    "from wdm.configuration.files import LMDBDatasetConfig\n",
    "from wdm.utils.transforms import Cropper, Resize3D\n",
    "from wdm.datasets.file_based import LMDBDataset\n",
    "from wdm.datasets.utils import instantiate_datasets\n",
    "from wdm.utils.masking import DirectorySampler\n",
    "from wdm.configuration.mask import PresampledMaskConfig\n",
    "from wdm.datasets.mri import MRIMaskedDataset\n",
    "from wdm.dataloaders.inpainting import MRIInpaintDataLoader\n",
    "from wdm.utils.logging_tools import Session"
   ]
  },
  {
   "cell_type": "code",
   "execution_count": 2,
   "metadata": {},
   "outputs": [],
   "source": [
    "if torch.cuda.is_available():\n",
    "    device = torch.device(\"cuda\")\n",
    "# elif torch.backends.mps.is_available():\n",
    "#     device = torch.device(\"mps\")\n",
    "else:\n",
    "    device = torch.device(\"cpu\")"
   ]
  },
  {
   "cell_type": "code",
   "execution_count": null,
   "metadata": {},
   "outputs": [
    {
     "name": "stdout",
     "output_type": "stream",
     "text": [
      "Selected datasets:\n",
      "-- IXI Dataset (Location: ../test_data/IXI/lmdb/volumes_T1w)\n",
      "-- IXI Dataset (Location: ../test_data/IXI/lmdb/volumes_T1w)\n",
      "-- IXI Dataset (Location: ../test_data/IXI/lmdb/volumes_T1w)\n"
     ]
    }
   ],
   "source": [
    "# Config load\n",
    "CONFIG_FILE = \"train/wdm.yaml\"\n",
    "\n",
    "config = OmegaConf.load(CONFIG_FILE)\n",
    "\n",
    "datasets = instantiate_datasets(config.datasets)"
   ]
  },
  {
   "cell_type": "code",
   "execution_count": 4,
   "metadata": {},
   "outputs": [
    {
     "data": {
      "text/plain": [
       "<wdm.configuration.files.LMDBDatasetConfig at 0x7efc360608f0>"
      ]
     },
     "execution_count": 4,
     "metadata": {},
     "output_type": "execute_result"
    }
   ],
   "source": [
    "dataset_configuration = LMDBDatasetConfig(\n",
    "    lmdb_folder=\"../test_data/IXI/lmdb\",\n",
    "    is_volume=True,\n",
    "    modality=\"T1w\",\n",
    "    mtransforms=[Cropper((192, 160))]\n",
    ")\n",
    "dataset_configuration"
   ]
  },
  {
   "cell_type": "code",
   "execution_count": 5,
   "metadata": {},
   "outputs": [],
   "source": [
    "lmbd_dataset = LMDBDataset(dataset_configuration)"
   ]
  },
  {
   "cell_type": "code",
   "execution_count": 6,
   "metadata": {},
   "outputs": [],
   "source": [
    "mask_sampler = DirectorySampler(PresampledMaskConfig(\"../masks\"))"
   ]
  },
  {
   "cell_type": "code",
   "execution_count": 7,
   "metadata": {},
   "outputs": [
    {
     "data": {
      "text/plain": [
       "(64, 64, 64)"
      ]
     },
     "execution_count": 7,
     "metadata": {},
     "output_type": "execute_result"
    }
   ],
   "source": [
    "img_shape = (config.model_config.image_size,)*3\n",
    "img_shape"
   ]
  },
  {
   "cell_type": "code",
   "execution_count": 8,
   "metadata": {},
   "outputs": [],
   "source": [
    "from wdm.utils.transforms import MaskTransform\n",
    "\n",
    "tfs = {\"img\": [Resize3D(img_shape, \"trilinear\")], \"mask\": [Resize3D(img_shape, \"trilinear\"), MaskTransform()]}"
   ]
  },
  {
   "cell_type": "code",
   "execution_count": 9,
   "metadata": {},
   "outputs": [
    {
     "data": {
      "text/plain": [
       "(tensor([[[[0., 0., 0.,  ..., 0., 0., 0.],\n",
       "           [0., 0., 0.,  ..., 0., 0., 0.],\n",
       "           [0., 0., 0.,  ..., 0., 0., 0.],\n",
       "           ...,\n",
       "           [0., 0., 0.,  ..., 0., 0., 0.],\n",
       "           [0., 0., 0.,  ..., 0., 0., 0.],\n",
       "           [0., 0., 0.,  ..., 0., 0., 0.]],\n",
       " \n",
       "          [[0., 0., 0.,  ..., 0., 0., 0.],\n",
       "           [0., 0., 0.,  ..., 0., 0., 0.],\n",
       "           [0., 0., 0.,  ..., 0., 0., 0.],\n",
       "           ...,\n",
       "           [0., 0., 0.,  ..., 0., 0., 0.],\n",
       "           [0., 0., 0.,  ..., 0., 0., 0.],\n",
       "           [0., 0., 0.,  ..., 0., 0., 0.]],\n",
       " \n",
       "          [[0., 0., 0.,  ..., 0., 0., 0.],\n",
       "           [0., 0., 0.,  ..., 0., 0., 0.],\n",
       "           [0., 0., 0.,  ..., 0., 0., 0.],\n",
       "           ...,\n",
       "           [0., 0., 0.,  ..., 0., 0., 0.],\n",
       "           [0., 0., 0.,  ..., 0., 0., 0.],\n",
       "           [0., 0., 0.,  ..., 0., 0., 0.]],\n",
       " \n",
       "          ...,\n",
       " \n",
       "          [[0., 0., 0.,  ..., 0., 0., 0.],\n",
       "           [0., 0., 0.,  ..., 0., 0., 0.],\n",
       "           [0., 0., 0.,  ..., 0., 0., 0.],\n",
       "           ...,\n",
       "           [0., 0., 0.,  ..., 0., 0., 0.],\n",
       "           [0., 0., 0.,  ..., 0., 0., 0.],\n",
       "           [0., 0., 0.,  ..., 0., 0., 0.]],\n",
       " \n",
       "          [[0., 0., 0.,  ..., 0., 0., 0.],\n",
       "           [0., 0., 0.,  ..., 0., 0., 0.],\n",
       "           [0., 0., 0.,  ..., 0., 0., 0.],\n",
       "           ...,\n",
       "           [0., 0., 0.,  ..., 0., 0., 0.],\n",
       "           [0., 0., 0.,  ..., 0., 0., 0.],\n",
       "           [0., 0., 0.,  ..., 0., 0., 0.]],\n",
       " \n",
       "          [[0., 0., 0.,  ..., 0., 0., 0.],\n",
       "           [0., 0., 0.,  ..., 0., 0., 0.],\n",
       "           [0., 0., 0.,  ..., 0., 0., 0.],\n",
       "           ...,\n",
       "           [0., 0., 0.,  ..., 0., 0., 0.],\n",
       "           [0., 0., 0.,  ..., 0., 0., 0.],\n",
       "           [0., 0., 0.,  ..., 0., 0., 0.]]]]),\n",
       " tensor([[[[0., 0., 0.,  ..., 0., 0., 0.],\n",
       "           [0., 0., 0.,  ..., 0., 0., 0.],\n",
       "           [0., 0., 0.,  ..., 0., 0., 0.],\n",
       "           ...,\n",
       "           [0., 0., 0.,  ..., 0., 0., 0.],\n",
       "           [0., 0., 0.,  ..., 0., 0., 0.],\n",
       "           [0., 0., 0.,  ..., 0., 0., 0.]],\n",
       " \n",
       "          [[0., 0., 0.,  ..., 0., 0., 0.],\n",
       "           [0., 0., 0.,  ..., 0., 0., 0.],\n",
       "           [0., 0., 0.,  ..., 0., 0., 0.],\n",
       "           ...,\n",
       "           [0., 0., 0.,  ..., 0., 0., 0.],\n",
       "           [0., 0., 0.,  ..., 0., 0., 0.],\n",
       "           [0., 0., 0.,  ..., 0., 0., 0.]],\n",
       " \n",
       "          [[0., 0., 0.,  ..., 0., 0., 0.],\n",
       "           [0., 0., 0.,  ..., 0., 0., 0.],\n",
       "           [0., 0., 0.,  ..., 0., 0., 0.],\n",
       "           ...,\n",
       "           [0., 0., 0.,  ..., 0., 0., 0.],\n",
       "           [0., 0., 0.,  ..., 0., 0., 0.],\n",
       "           [0., 0., 0.,  ..., 0., 0., 0.]],\n",
       " \n",
       "          ...,\n",
       " \n",
       "          [[0., 0., 0.,  ..., 0., 0., 0.],\n",
       "           [0., 0., 0.,  ..., 0., 0., 0.],\n",
       "           [0., 0., 0.,  ..., 0., 0., 0.],\n",
       "           ...,\n",
       "           [0., 0., 0.,  ..., 0., 0., 0.],\n",
       "           [0., 0., 0.,  ..., 0., 0., 0.],\n",
       "           [0., 0., 0.,  ..., 0., 0., 0.]],\n",
       " \n",
       "          [[0., 0., 0.,  ..., 0., 0., 0.],\n",
       "           [0., 0., 0.,  ..., 0., 0., 0.],\n",
       "           [0., 0., 0.,  ..., 0., 0., 0.],\n",
       "           ...,\n",
       "           [0., 0., 0.,  ..., 0., 0., 0.],\n",
       "           [0., 0., 0.,  ..., 0., 0., 0.],\n",
       "           [0., 0., 0.,  ..., 0., 0., 0.]],\n",
       " \n",
       "          [[0., 0., 0.,  ..., 0., 0., 0.],\n",
       "           [0., 0., 0.,  ..., 0., 0., 0.],\n",
       "           [0., 0., 0.,  ..., 0., 0., 0.],\n",
       "           ...,\n",
       "           [0., 0., 0.,  ..., 0., 0., 0.],\n",
       "           [0., 0., 0.,  ..., 0., 0., 0.],\n",
       "           [0., 0., 0.,  ..., 0., 0., 0.]]]]),\n",
       " tensor([30.4175,  0.0000]))"
      ]
     },
     "execution_count": 9,
     "metadata": {},
     "output_type": "execute_result"
    }
   ],
   "source": [
    "a = MRIMaskedDataset(lmbd_dataset, age_range=None, mask_sampler=mask_sampler)\n",
    "next(iter(a))"
   ]
  },
  {
   "cell_type": "code",
   "execution_count": 10,
   "metadata": {},
   "outputs": [],
   "source": [
    "mri_dataloader = MRIInpaintDataLoader(lmbd_dataset, age_range=None, mask_sampler=mask_sampler, batch_size=1, num_workers=0, transforms=tfs)\n",
    "mri_dataloader.setup()\n",
    "train_mri_dataloader = mri_dataloader.train_dataloader() "
   ]
  },
  {
   "cell_type": "code",
   "execution_count": 11,
   "metadata": {},
   "outputs": [],
   "source": [
    "img : torch.Tensor\n",
    "mask : torch.Tensor\n",
    "cond : torch.Tensor\n",
    "img, mask, cond = next(iter(train_mri_dataloader))\n",
    "batch = (img, mask, cond)"
   ]
  },
  {
   "cell_type": "code",
   "execution_count": 12,
   "metadata": {},
   "outputs": [
    {
     "data": {
      "text/plain": [
       "(torch.Size([1, 1, 64, 64, 64]),\n",
       " torch.Size([1, 1, 64, 64, 64]),\n",
       " torch.Size([1, 2]))"
      ]
     },
     "execution_count": 12,
     "metadata": {},
     "output_type": "execute_result"
    }
   ],
   "source": [
    "img.shape, mask.shape, cond.shape"
   ]
  },
  {
   "cell_type": "code",
   "execution_count": 13,
   "metadata": {},
   "outputs": [],
   "source": [
    "batch = tuple(b.to(device) for b in batch)"
   ]
  },
  {
   "cell_type": "code",
   "execution_count": 14,
   "metadata": {},
   "outputs": [],
   "source": [
    "import matplotlib.pyplot as plt\n",
    "\n",
    "def show_image(img, slice=65):\n",
    "    # Visualize the mask\n",
    "    \n",
    "    plt.figure(figsize=(4, 4))\n",
    "    plt.imshow(img[:,slice,...].cpu(), cmap=\"gray\")\n",
    "    plt.axis(\"off\")\n",
    "    plt.show()"
   ]
  },
  {
   "cell_type": "code",
   "execution_count": 15,
   "metadata": {},
   "outputs": [
    {
     "data": {
      "image/png": "[encoded data removed]",
      "text/plain": [
       "<Figure size 400x400 with 1 Axes>"
      ]
     },
     "metadata": {},
     "output_type": "display_data"
    }
   ],
   "source": [
    "show_image(img[0, 0], slice = 20)"
   ]
  },
  {
   "cell_type": "code",
   "execution_count": null,
   "metadata": {},
   "outputs": [
    {
     "data": {
      "image/png": "[encoded data removed]",
      "text/plain": [
       "<Figure size 400x400 with 1 Axes>"
      ]
     },
     "metadata": {},
     "output_type": "display_data"
    }
   ],
   "source": [
    "show_image(mask[0, 0], slice = 20)"
   ]
  },
  {
   "cell_type": "code",
   "execution_count": 17,
   "metadata": {},
   "outputs": [],
   "source": [
    "from wdm.model.wdm import WDM\n",
    "from wdm.model.diffusion.sampler import create_named_schedule_sampler\n",
    "from wdm.model.utils.etc import create_model_and_diffusion, model_and_diffusion_defaults"
   ]
  },
  {
   "cell_type": "code",
   "execution_count": 18,
   "metadata": {},
   "outputs": [],
   "source": [
    "DIFFUSION_CONFIG = config.diffusion_config\n",
    "MODEL_CONFIG = config.model_config\n",
    "COMMON_CONFIG = config.common_config"
   ]
  },
  {
   "cell_type": "code",
   "execution_count": 19,
   "metadata": {},
   "outputs": [],
   "source": [
    "args = model_and_diffusion_defaults(DIFFUSION_CONFIG, MODEL_CONFIG, COMMON_CONFIG)"
   ]
  },
  {
   "cell_type": "code",
   "execution_count": 20,
   "metadata": {},
   "outputs": [
    {
     "data": {
      "text/plain": [
       "{'learn_sigma': False,\n",
       " 'diffusion_steps': 1000,\n",
       " 'noise_schedule': 'linear',\n",
       " 'timestep_respacing': '',\n",
       " 'use_kl': False,\n",
       " 'predict_xstart': False,\n",
       " 'rescale_timesteps': False,\n",
       " 'rescale_learned_sigmas': False,\n",
       " 'dims': 3,\n",
       " 'num_groups': 32,\n",
       " 'in_channels': 16,\n",
       " 'image_size': 64,\n",
       " 'num_channels': 64,\n",
       " 'num_res_blocks': 2,\n",
       " 'num_heads': 1,\n",
       " 'num_heads_upsample': -1,\n",
       " 'num_head_channels': -1,\n",
       " 'attention_resolutions': '16,8',\n",
       " 'channel_mult': '1,2,2,4,4,4',\n",
       " 'dropout': 0.0,\n",
       " 'use_checkpoint': False,\n",
       " 'use_scale_shift_norm': False,\n",
       " 'resblock_updown': True,\n",
       " 'use_new_attention_order': False,\n",
       " 'out_channels': 8,\n",
       " 'bottleneck_attention': False,\n",
       " 'resample_2d': False,\n",
       " 'additive_skips': True,\n",
       " 'use_conditional_model': True}"
      ]
     },
     "execution_count": 20,
     "metadata": {},
     "output_type": "execute_result"
    }
   ],
   "source": [
    "args"
   ]
  },
  {
   "cell_type": "code",
   "execution_count": 21,
   "metadata": {},
   "outputs": [],
   "source": [
    "model, diffusion = create_model_and_diffusion(**args)"
   ]
  },
  {
   "cell_type": "code",
   "execution_count": 22,
   "metadata": {},
   "outputs": [],
   "source": [
    "model = model.to(device)"
   ]
  },
  {
   "cell_type": "code",
   "execution_count": 23,
   "metadata": {},
   "outputs": [],
   "source": [
    "sampler = create_named_schedule_sampler(\"uniform\", diffusion,  maxt=args[\"diffusion_steps\"])"
   ]
  },
  {
   "cell_type": "code",
   "execution_count": 24,
   "metadata": {},
   "outputs": [],
   "source": [
    "session = Session(\"WDM\", config)"
   ]
  },
  {
   "cell_type": "code",
   "execution_count": 25,
   "metadata": {},
   "outputs": [
    {
     "name": "stdout",
     "output_type": "stream",
     "text": [
      "Logging to ../wdm_training/WDM_exec_1737967597.301167/logs\n"
     ]
    }
   ],
   "source": [
    "wdm = WDM(\n",
    "        model=model,\n",
    "        session=session,\n",
    "        diffusion=diffusion,\n",
    "        batch_size=config.train_config.batch_size,\n",
    "        in_channels=1,\n",
    "        microbatch=-1,\n",
    "        lr=config.train_config.lr,\n",
    "        log_interval=10,\n",
    "        img_log_interval=50,\n",
    "        val_interval=2000,\n",
    "        schedule_sampler=sampler,\n",
    "        weight_decay=config.train_config.weight_decay,\n",
    "        mask_weight=config.train_config.mask_weight,\n",
    "        clip_denoised=config.sampling_config.clip_denoised,\n",
    "        steps_scheduler=config.sampling_config.steps_scheduler,\n",
    "        sampling_steps=config.sampling_config.sampling_steps\n",
    "    )"
   ]
  },
  {
   "cell_type": "code",
   "execution_count": 26,
   "metadata": {},
   "outputs": [
    {
     "data": {
      "text/plain": [
       "AdamW (\n",
       "Parameter Group 0\n",
       "    amsgrad: False\n",
       "    betas: (0.9, 0.999)\n",
       "    capturable: False\n",
       "    differentiable: False\n",
       "    eps: 1e-08\n",
       "    foreach: None\n",
       "    fused: None\n",
       "    lr: 1e-05\n",
       "    maximize: False\n",
       "    weight_decay: 0\n",
       ")"
      ]
     },
     "execution_count": 26,
     "metadata": {},
     "output_type": "execute_result"
    }
   ],
   "source": [
    "wdm.configure_optimizers()"
   ]
  },
  {
   "cell_type": "code",
   "execution_count": 27,
   "metadata": {},
   "outputs": [
    {
     "data": {
      "text/plain": [
       "(tensor([[[[[0., 0., 0.,  ..., 0., 0., 0.],\n",
       "            [0., 0., 0.,  ..., 0., 0., 0.],\n",
       "            [0., 0., 0.,  ..., 0., 0., 0.],\n",
       "            ...,\n",
       "            [0., 0., 0.,  ..., 0., 0., 0.],\n",
       "            [0., 0., 0.,  ..., 0., 0., 0.],\n",
       "            [0., 0., 0.,  ..., 0., 0., 0.]],\n",
       " \n",
       "           [[0., 0., 0.,  ..., 0., 0., 0.],\n",
       "            [0., 0., 0.,  ..., 0., 0., 0.],\n",
       "            [0., 0., 0.,  ..., 0., 0., 0.],\n",
       "            ...,\n",
       "            [0., 0., 0.,  ..., 0., 0., 0.],\n",
       "            [0., 0., 0.,  ..., 0., 0., 0.],\n",
       "            [0., 0., 0.,  ..., 0., 0., 0.]],\n",
       " \n",
       "           [[0., 0., 0.,  ..., 0., 0., 0.],\n",
       "            [0., 0., 0.,  ..., 0., 0., 0.],\n",
       "            [0., 0., 0.,  ..., 0., 0., 0.],\n",
       "            ...,\n",
       "            [0., 0., 0.,  ..., 0., 0., 0.],\n",
       "            [0., 0., 0.,  ..., 0., 0., 0.],\n",
       "            [0., 0., 0.,  ..., 0., 0., 0.]],\n",
       " \n",
       "           ...,\n",
       " \n",
       "           [[0., 0., 0.,  ..., 0., 0., 0.],\n",
       "            [0., 0., 0.,  ..., 0., 0., 0.],\n",
       "            [0., 0., 0.,  ..., 0., 0., 0.],\n",
       "            ...,\n",
       "            [0., 0., 0.,  ..., 0., 0., 0.],\n",
       "            [0., 0., 0.,  ..., 0., 0., 0.],\n",
       "            [0., 0., 0.,  ..., 0., 0., 0.]],\n",
       " \n",
       "           [[0., 0., 0.,  ..., 0., 0., 0.],\n",
       "            [0., 0., 0.,  ..., 0., 0., 0.],\n",
       "            [0., 0., 0.,  ..., 0., 0., 0.],\n",
       "            ...,\n",
       "            [0., 0., 0.,  ..., 0., 0., 0.],\n",
       "            [0., 0., 0.,  ..., 0., 0., 0.],\n",
       "            [0., 0., 0.,  ..., 0., 0., 0.]],\n",
       " \n",
       "           [[0., 0., 0.,  ..., 0., 0., 0.],\n",
       "            [0., 0., 0.,  ..., 0., 0., 0.],\n",
       "            [0., 0., 0.,  ..., 0., 0., 0.],\n",
       "            ...,\n",
       "            [0., 0., 0.,  ..., 0., 0., 0.],\n",
       "            [0., 0., 0.,  ..., 0., 0., 0.],\n",
       "            [0., 0., 0.,  ..., 0., 0., 0.]]]]], device='cuda:0'),\n",
       " tensor([[[[[0., 0., 0.,  ..., 0., 0., 0.],\n",
       "            [0., 0., 0.,  ..., 0., 0., 0.],\n",
       "            [0., 0., 0.,  ..., 0., 0., 0.],\n",
       "            ...,\n",
       "            [0., 0., 0.,  ..., 0., 0., 0.],\n",
       "            [0., 0., 0.,  ..., 0., 0., 0.],\n",
       "            [0., 0., 0.,  ..., 0., 0., 0.]],\n",
       " \n",
       "           [[0., 0., 0.,  ..., 0., 0., 0.],\n",
       "            [0., 0., 0.,  ..., 0., 0., 0.],\n",
       "            [0., 0., 0.,  ..., 0., 0., 0.],\n",
       "            ...,\n",
       "            [0., 0., 0.,  ..., 0., 0., 0.],\n",
       "            [0., 0., 0.,  ..., 0., 0., 0.],\n",
       "            [0., 0., 0.,  ..., 0., 0., 0.]],\n",
       " \n",
       "           [[0., 0., 0.,  ..., 0., 0., 0.],\n",
       "            [0., 0., 0.,  ..., 0., 0., 0.],\n",
       "            [0., 0., 0.,  ..., 0., 0., 0.],\n",
       "            ...,\n",
       "            [0., 0., 0.,  ..., 0., 0., 0.],\n",
       "            [0., 0., 0.,  ..., 0., 0., 0.],\n",
       "            [0., 0., 0.,  ..., 0., 0., 0.]],\n",
       " \n",
       "           ...,\n",
       " \n",
       "           [[0., 0., 0.,  ..., 0., 0., 0.],\n",
       "            [0., 0., 0.,  ..., 0., 0., 0.],\n",
       "            [0., 0., 0.,  ..., 0., 0., 0.],\n",
       "            ...,\n",
       "            [0., 0., 0.,  ..., 0., 0., 0.],\n",
       "            [0., 0., 0.,  ..., 0., 0., 0.],\n",
       "            [0., 0., 0.,  ..., 0., 0., 0.]],\n",
       " \n",
       "           [[0., 0., 0.,  ..., 0., 0., 0.],\n",
       "            [0., 0., 0.,  ..., 0., 0., 0.],\n",
       "            [0., 0., 0.,  ..., 0., 0., 0.],\n",
       "            ...,\n",
       "            [0., 0., 0.,  ..., 0., 0., 0.],\n",
       "            [0., 0., 0.,  ..., 0., 0., 0.],\n",
       "            [0., 0., 0.,  ..., 0., 0., 0.]],\n",
       " \n",
       "           [[0., 0., 0.,  ..., 0., 0., 0.],\n",
       "            [0., 0., 0.,  ..., 0., 0., 0.],\n",
       "            [0., 0., 0.,  ..., 0., 0., 0.],\n",
       "            ...,\n",
       "            [0., 0., 0.,  ..., 0., 0., 0.],\n",
       "            [0., 0., 0.,  ..., 0., 0., 0.],\n",
       "            [0., 0., 0.,  ..., 0., 0., 0.]]]]], device='cuda:0'),\n",
       " tensor([[74.0260,  0.0000]], device='cuda:0'))"
      ]
     },
     "execution_count": 27,
     "metadata": {},
     "output_type": "execute_result"
    }
   ],
   "source": [
    "batch"
   ]
  },
  {
   "cell_type": "code",
   "execution_count": 28,
   "metadata": {},
   "outputs": [],
   "source": [
    "from pytorch_lightning import Trainer\n",
    "from pytorch_lightning.callbacks import ModelCheckpoint\n",
    "from wdm.utils.logging_tools import AdvancedWandLogger\n",
    "\n",
    "wand_logger = AdvancedWandLogger(model, session)"
   ]
  },
  {
   "cell_type": "code",
   "execution_count": 31,
   "metadata": {},
   "outputs": [
    {
     "name": "stdout",
     "output_type": "stream",
     "text": [
      "Logging to ../wdm_training/WDM_exec_1737967597.301167/logs\n"
     ]
    }
   ],
   "source": [
    "# wdm: WDM = WDM.load_from_checkpoint(\"/mnt/d/Programmazione/Progetti/phd/wdm_training/wdm_training_exec_1737911635.648742/checkpoints/holdout_epoch=01-loss/MSE=0.0202.ckpt\",\n",
    "#                                model = model)\n",
    "wdm = WDM(\n",
    "        model=model,\n",
    "        session=session,\n",
    "        diffusion=diffusion,\n",
    "        batch_size=config.train_config.batch_size,\n",
    "        in_channels=1,\n",
    "        microbatch=-1,\n",
    "        lr=config.train_config.lr,\n",
    "        log_interval=10,\n",
    "        img_log_interval=50,\n",
    "        val_interval=2,\n",
    "        schedule_sampler=sampler,\n",
    "        weight_decay=config.train_config.weight_decay,\n",
    "        mask_weight=config.train_config.mask_weight,\n",
    "        clip_denoised=config.sampling_config.clip_denoised,\n",
    "        steps_scheduler=config.sampling_config.steps_scheduler,\n",
    "        sampling_steps=config.sampling_config.sampling_steps\n",
    "    )"
   ]
  },
  {
   "cell_type": "code",
   "execution_count": 32,
   "metadata": {},
   "outputs": [],
   "source": [
    "torch.set_default_device('cuda')"
   ]
  },
  {
   "cell_type": "code",
   "execution_count": 33,
   "metadata": {},
   "outputs": [],
   "source": [
    "def show_image_idwt(img):\n",
    "    # Visualize the mask\n",
    "    \n",
    "    plt.figure(figsize=(4, 4))\n",
    "    plt.imshow(img[0,0,:,:,img.size()[2]//2].detach().cpu(), cmap=\"gray\")\n",
    "    plt.axis(\"off\")\n",
    "    plt.show()"
   ]
  },
  {
   "cell_type": "code",
   "execution_count": 34,
   "metadata": {},
   "outputs": [],
   "source": [
    "model = wdm.model\n",
    "diffusion = wdm.diffusion"
   ]
  },
  {
   "cell_type": "code",
   "execution_count": 33,
   "metadata": {},
   "outputs": [],
   "source": [
    "from wdm.model.DWT.DWT_IDWT_layer import IDWT_3D, DWT_3D\n",
    "from wdm.model.DWT.utils import convert_to_dwt, convert_to_idwt\n",
    "\n",
    "dwt, idwt = DWT_3D('haar'), IDWT_3D('haar')"
   ]
  },
  {
   "cell_type": "code",
   "execution_count": 34,
   "metadata": {},
   "outputs": [],
   "source": [
    "img, mask, cond = img[[0]].to(device), mask[[0]].to(device), cond[[0]].to(device)"
   ]
  },
  {
   "cell_type": "code",
   "execution_count": 35,
   "metadata": {},
   "outputs": [],
   "source": [
    "x_start_masked = img * (1-mask)\n",
    "noise = wdm.noise_generator(x_start_masked)\n",
    "noise = noise * mask\n",
    "\n",
    "t, weights = wdm.schedule_sampler.sample(img.shape[0], device)\n",
    "\n",
    "x_t = diffusion.q_sample(x_start_masked, t, noise=noise)\n",
    "\n",
    "x_t_dwt = convert_to_dwt(x_t, dwt)\n",
    "mask_cond_dwt = convert_to_dwt(mask, dwt)"
   ]
  },
  {
   "cell_type": "code",
   "execution_count": 37,
   "metadata": {},
   "outputs": [
    {
     "data": {
      "image/png": "[encoded data removed]",
      "text/plain": [
       "<Figure size 400x400 with 1 Axes>"
      ]
     },
     "metadata": {},
     "output_type": "display_data"
    },
    {
     "data": {
      "image/png": "[encoded data removed]",
      "text/plain": [
       "<Figure size 400x400 with 1 Axes>"
      ]
     },
     "metadata": {},
     "output_type": "display_data"
    }
   ],
   "source": [
    "show_image_idwt(x_t)\n",
    "show_image_idwt(mask)"
   ]
  },
  {
   "cell_type": "code",
   "execution_count": 39,
   "metadata": {},
   "outputs": [
    {
     "data": {
      "image/png": "[encoded data removed]",
      "text/plain": [
       "<Figure size 400x400 with 1 Axes>"
      ]
     },
     "metadata": {},
     "output_type": "display_data"
    }
   ],
   "source": [
    "t = torch.tensor([999] * img.shape[0], device=device)\n",
    "\n",
    "model_output = model(x_t_dwt, diffusion._scale_timesteps(t), label_cond_dwt=mask_cond_dwt)\n",
    "# Inverse wavelet transform the model output\n",
    "model_output_idwt = convert_to_idwt(model_output, idwt)\n",
    "show_image_idwt(model_output_idwt)"
   ]
  },
  {
   "cell_type": "code",
   "execution_count": 42,
   "metadata": {},
   "outputs": [],
   "source": [
    "noisy_img = x_start_masked + noise\n",
    "\n",
    "# Let's take the entire volume, and add noise only in the label_cond region\n",
    "img_dwt = convert_to_dwt(noisy_img, dwt)\n",
    "mask_dwt = convert_to_dwt(mask, dwt)"
   ]
  },
  {
   "cell_type": "code",
   "execution_count": 43,
   "metadata": {},
   "outputs": [
    {
     "data": {
      "image/png": "[encoded data removed]",
      "text/plain": [
       "<Figure size 400x400 with 1 Axes>"
      ]
     },
     "metadata": {},
     "output_type": "display_data"
    }
   ],
   "source": [
    "show_image_idwt(noisy_img)"
   ]
  },
  {
   "cell_type": "code",
   "execution_count": 45,
   "metadata": {},
   "outputs": [
    {
     "data": {
      "image/png": "[encoded data removed]",
      "text/plain": [
       "<Figure size 400x400 with 1 Axes>"
      ]
     },
     "metadata": {},
     "output_type": "display_data"
    }
   ],
   "source": [
    "model_output_noisy = model(img_dwt, diffusion._scale_timesteps(t), label_cond_dwt=mask_cond_dwt)\n",
    "# Inverse wavelet transform the model output\n",
    "model_output_idwt_noisy = convert_to_idwt(model_output_noisy, idwt)\n",
    "show_image_idwt(model_output_idwt)"
   ]
  },
  {
   "cell_type": "code",
   "execution_count": 51,
   "metadata": {},
   "outputs": [],
   "source": [
    "from wdm.model.diffusion.gaussian import ModelVarType, _extract_into_tensor\n",
    "import numpy as np\n",
    "\n",
    "model_variance, model_log_variance = {\n",
    "    # for fixedlarge, we set the initial (log-)variance like so\n",
    "    # to get a better decoder log likelihood.\n",
    "    ModelVarType.FIXED_LARGE: (\n",
    "        np.append(diffusion.posterior_variance[1], diffusion.betas[1:]),\n",
    "        np.log(np.append(diffusion.posterior_variance[1], diffusion.betas[1:])),\n",
    "    ),\n",
    "    ModelVarType.FIXED_SMALL: (\n",
    "        diffusion.posterior_variance,\n",
    "        diffusion.posterior_log_variance_clipped,\n",
    "    ),\n",
    "}[diffusion.model_var_type]\n",
    "\n",
    "model_varianc_dwt, model_log_variance_dwt = _extract_into_tensor(model_variance, t, img_dwt.shape), _extract_into_tensor(model_log_variance, t, img_dwt.shape)"
   ]
  },
  {
   "cell_type": "code",
   "execution_count": 50,
   "metadata": {},
   "outputs": [
    {
     "data": {
      "image/png": "[encoded data removed]",
      "text/plain": [
       "<Figure size 400x400 with 1 Axes>"
      ]
     },
     "metadata": {},
     "output_type": "display_data"
    }
   ],
   "source": [
    "sample_dwt = model_output_noisy + torch.exp(0.5 * model_log_variance) * wdm.noise_generator(model_output_noisy)\n",
    "sample_idwt = convert_to_idwt(sample_dwt, idwt)\n",
    "show_image_idwt(sample_idwt)"
   ]
  },
  {
   "cell_type": "code",
   "execution_count": 53,
   "metadata": {},
   "outputs": [
    {
     "data": {
      "image/png": "[encoded data removed]",
      "text/plain": [
       "<Figure size 400x400 with 1 Axes>"
      ]
     },
     "metadata": {},
     "output_type": "display_data"
    }
   ],
   "source": [
    "sample_dwt = model_output_noisy \n",
    "sample_idwt = convert_to_idwt(sample_dwt, idwt)\n",
    "sample_idwt = sample_idwt + torch.exp(0.5 * _extract_into_tensor(model_log_variance, t, sample_idwt.shape)) * wdm.noise_generator(sample_idwt)\n",
    "show_image_idwt(sample_idwt)"
   ]
  },
  {
   "cell_type": "code",
   "execution_count": 31,
   "metadata": {},
   "outputs": [],
   "source": [
    "# wdm.training_step((img.to(device), mask.to(device), cond), 0)"
   ]
  },
  {
   "cell_type": "code",
   "execution_count": 35,
   "metadata": {},
   "outputs": [
    {
     "name": "stdout",
     "output_type": "stream",
     "text": [
      "steps_scheduler: None\n",
      "time: 1000\n",
      "Using Default time scheduler (linear, constant steps)\n",
      "Using time: 1000\n"
     ]
    },
    {
     "ename": "UnboundLocalError",
     "evalue": "cannot access local variable 'brain_masked' where it is not associated with a value",
     "output_type": "error",
     "traceback": [
      "\u001b[0;31m---------------------------------------------------------------------------\u001b[0m",
      "\u001b[0;31mUnboundLocalError\u001b[0m                         Traceback (most recent call last)",
      "Cell \u001b[0;32mIn[35], line 2\u001b[0m\n\u001b[1;32m      1\u001b[0m wdm\u001b[38;5;241m.\u001b[39msampling_steps \u001b[38;5;241m=\u001b[39m \u001b[38;5;241m1000\u001b[39m\n\u001b[0;32m----> 2\u001b[0m wdm\u001b[38;5;241m.\u001b[39msample_model(img\u001b[38;5;241m.\u001b[39mto(device), mask\u001b[38;5;241m.\u001b[39mto(device), cond, wdm\u001b[38;5;241m.\u001b[39mnoise_generator)\n",
      "File \u001b[0;32m/mnt/d/Programmazione/Progetti/phd/wdm_inpainting/wdm/model/wdm.py:203\u001b[0m, in \u001b[0;36mWDM.sample_model\u001b[0;34m(self, img, mask, cond, noise_generator)\u001b[0m\n\u001b[1;32m    192\u001b[0m sample \u001b[38;5;241m=\u001b[39m \u001b[38;5;28mself\u001b[39m\u001b[38;5;241m.\u001b[39mdiffusion\u001b[38;5;241m.\u001b[39msample_diffusion(model \u001b[38;5;241m=\u001b[39m \u001b[38;5;28mself\u001b[39m\u001b[38;5;241m.\u001b[39mmodel,\n\u001b[1;32m    193\u001b[0m                                          img \u001b[38;5;241m=\u001b[39m sample_img,\n\u001b[1;32m    194\u001b[0m                                          mask \u001b[38;5;241m=\u001b[39m sample_mask,\n\u001b[0;32m   (...)\u001b[0m\n\u001b[1;32m    199\u001b[0m                                          model_kwargs \u001b[38;5;241m=\u001b[39m {},\n\u001b[1;32m    200\u001b[0m                                          progress \u001b[38;5;241m=\u001b[39m \u001b[38;5;28mself\u001b[39m\u001b[38;5;241m.\u001b[39msession\u001b[38;5;241m.\u001b[39mis_slurm())\n\u001b[1;32m    202\u001b[0m \u001b[38;5;66;03m# Get sample without not sane zone\u001b[39;00m\n\u001b[0;32m--> 203\u001b[0m norm_img \u001b[38;5;241m=\u001b[39m (brain_masked \u001b[38;5;241m+\u001b[39m \u001b[38;5;241m1\u001b[39m) \u001b[38;5;241m/\u001b[39m \u001b[38;5;241m2.\u001b[39m\n\u001b[1;32m    204\u001b[0m brain_masked \u001b[38;5;241m=\u001b[39m norm_img \u001b[38;5;241m*\u001b[39m (\u001b[38;5;241m1\u001b[39m\u001b[38;5;241m-\u001b[39mmask) \u001b[38;5;66;03m# This is already between 0/1\u001b[39;00m\n\u001b[1;32m    205\u001b[0m generated_roi \u001b[38;5;241m=\u001b[39m ((sample \u001b[38;5;241m+\u001b[39m \u001b[38;5;241m1\u001b[39m) \u001b[38;5;241m/\u001b[39m \u001b[38;5;241m2.\u001b[39m) \u001b[38;5;241m*\u001b[39m mask\n",
      "\u001b[0;31mUnboundLocalError\u001b[0m: cannot access local variable 'brain_masked' where it is not associated with a value"
     ]
    }
   ],
   "source": [
    "wdm.sampling_steps = 1000\n",
    "wdm.sample_model(img.to(device), mask.to(device), cond, wdm.noise_generator)"
   ]
  }
 ],
 "metadata": {
  "kernelspec": {
   "display_name": "torch_env",
   "language": "python",
   "name": "python3"
  },
  "language_info": {
   "codemirror_mode": {
    "name": "ipython",
    "version": 3
   },
   "file_extension": ".py",
   "mimetype": "text/x-python",
   "name": "python",
   "nbconvert_exporter": "python",
   "pygments_lexer": "ipython3",
   "version": "3.12.2"
  }
 },
 "nbformat": 4,
 "nbformat_minor": 2
}
